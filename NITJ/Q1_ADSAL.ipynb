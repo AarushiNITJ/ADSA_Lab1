{
 "cells": [
  {
   "cell_type": "code",
   "execution_count": 22,
   "id": "b21c2c5c-fb62-4f52-873e-7c228b5329ed",
   "metadata": {},
   "outputs": [
    {
     "name": "stdin",
     "output_type": "stream",
     "text": [
      "Enter a number = 2\n"
     ]
    },
    {
     "name": "stdout",
     "output_type": "stream",
     "text": [
      "2\n",
      "4\n",
      "6\n",
      "8\n",
      "10\n",
      "12\n",
      "14\n",
      "16\n",
      "18\n",
      "20\n",
      "35 not found\n"
     ]
    }
   ],
   "source": [
    "n = int(input(\"Enter a number =\"))\n",
    "z=[1]*10\n",
    "for i in range (0,10):\n",
    "    z[i]=n*(i+1)\n",
    "    print(z[i])\n",
    "if(z[i]==35):\n",
    "    print(\"35 found\")\n",
    "else:\n",
    "    print(\"35 not found\")\n",
    "\n",
    "\n"
   ]
  }
 ],
 "metadata": {
  "kernelspec": {
   "display_name": "Python 3 (ipykernel)",
   "language": "python",
   "name": "python3"
  },
  "language_info": {
   "codemirror_mode": {
    "name": "ipython",
    "version": 3
   },
   "file_extension": ".py",
   "mimetype": "text/x-python",
   "name": "python",
   "nbconvert_exporter": "python",
   "pygments_lexer": "ipython3",
   "version": "3.12.4"
  }
 },
 "nbformat": 4,
 "nbformat_minor": 5
}
