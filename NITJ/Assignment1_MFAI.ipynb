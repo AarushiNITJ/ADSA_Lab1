{
 "cells": [
  {
   "cell_type": "code",
   "execution_count": 5,
   "id": "87070d9a-ffe7-4ccd-8d13-bf9e472a9b21",
   "metadata": {},
   "outputs": [
    {
     "name": "stdout",
     "output_type": "stream",
     "text": [
      "Mean Height: 144.8\n",
      "Mean Weight: 71.7\n",
      "Variance of Heights:  424.06315789473683\n",
      "Variance of Weights:  229.69473684210524\n",
      "Standard Deviation of Heights: 20.592793834124034\n",
      "Standard Deviation of Weights:  15.155683318217799\n",
      "Covariance between Heights and Weights: 231.7263157894737\n",
      "Covariance Matrix:\n",
      "[424.06315789473683, 231.7263157894737]\n",
      "[231.7263157894737, 229.69473684210524]\n"
     ]
    }
   ],
   "source": [
    "data = [\n",
    "    [182, 78],\n",
    "    [162, 82],\n",
    "    [114, 58],\n",
    "    [134, 61],\n",
    "    [154, 79],\n",
    "    [155, 108],\n",
    "    [161, 81],\n",
    "    [170, 90],\n",
    "    [124, 67],\n",
    "    [136, 58],\n",
    "    [140, 64],\n",
    "    [127, 50],\n",
    "    [140, 74],\n",
    "    [129, 58],\n",
    "    [132, 60],\n",
    "    [124, 54],\n",
    "    [131, 59],\n",
    "    [173, 92],\n",
    "    [180, 83],\n",
    "    [128, 78]\n",
    "]\n",
    "heights = [row[0] for row in data]\n",
    "weights = [row[1] for row in data]\n",
    "\n",
    "n = len(data)\n",
    "\n",
    "mean_height = sum(heights) / n\n",
    "mean_weight = sum(weights) / n\n",
    "\n",
    "print(\"Mean Height:\", mean_height)\n",
    "print(\"Mean Weight:\",mean_weight)\n",
    "\n",
    "var_heights = sum((x - mean_height) ** 2 for x in heights) / (n - 1)\n",
    "var_weights = sum((x - mean_weight) ** 2 for x in weights) / (n - 1)\n",
    "\n",
    "print(\"Variance of Heights: \", var_heights)\n",
    "print(\"Variance of Weights: \", var_weights)\n",
    "\n",
    "std_dev_heights = (var_heights) ** 0.5\n",
    "std_dev_weights = (var_weights) ** 0.5\n",
    "\n",
    "print(\"Standard Deviation of Heights:\", std_dev_heights)\n",
    "print(\"Standard Deviation of Weights: \", std_dev_weights)\n",
    "\n",
    "covariance = sum((heights[i] - mean_height) * (weights[i] - mean_weight) for i in range(n)) / (n - 1)\n",
    "\n",
    "print(\"Covariance between Heights and Weights:\",covariance)\n",
    "\n",
    "cov_matrix = [\n",
    "    [var_heights, covariance],\n",
    "    [covariance, var_weights]\n",
    "]\n",
    "\n",
    "print(\"Covariance Matrix:\")\n",
    "for row in cov_matrix:\n",
    "    print(row)\n"
   ]
  },
  {
   "cell_type": "code",
   "execution_count": null,
   "id": "4ae74867-ede0-422a-b578-b5a83d7522c9",
   "metadata": {},
   "outputs": [],
   "source": []
  }
 ],
 "metadata": {
  "kernelspec": {
   "display_name": "Python 3 (ipykernel)",
   "language": "python",
   "name": "python3"
  },
  "language_info": {
   "codemirror_mode": {
    "name": "ipython",
    "version": 3
   },
   "file_extension": ".py",
   "mimetype": "text/x-python",
   "name": "python",
   "nbconvert_exporter": "python",
   "pygments_lexer": "ipython3",
   "version": "3.12.4"
  }
 },
 "nbformat": 4,
 "nbformat_minor": 5
}
