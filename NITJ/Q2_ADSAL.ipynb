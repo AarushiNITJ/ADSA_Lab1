{
 "cells": [
  {
   "cell_type": "code",
   "execution_count": 1,
   "id": "756db496-f3c0-4fd5-b2f8-ef5450c7d2db",
   "metadata": {},
   "outputs": [
    {
     "name": "stdin",
     "output_type": "stream",
     "text": [
      "Enter no. of elements for a: 3\n",
      " 1\n",
      " 2\n",
      " 3\n"
     ]
    },
    {
     "name": "stdout",
     "output_type": "stream",
     "text": [
      "[1, 2, 3]\n"
     ]
    },
    {
     "name": "stdin",
     "output_type": "stream",
     "text": [
      "Enter no. of elements for b: 3\n",
      " 4\n",
      " 5\n",
      " 6\n"
     ]
    },
    {
     "name": "stdout",
     "output_type": "stream",
     "text": [
      "[4, 5, 6]\n",
      "32\n"
     ]
    }
   ],
   "source": [
    "a=[]\n",
    "n=int(input(\"Enter no. of elements for a:\"))\n",
    "for i in range(0,n):\n",
    "    ele=int(input())\n",
    "    a.append(ele)\n",
    "print(a)\n",
    "\n",
    "b=[]\n",
    "n=int(input(\"Enter no. of elements for b:\"))\n",
    "for i in range(0,n):\n",
    "    ele=int(input())\n",
    "    b.append(ele)\n",
    "print(b)\n",
    "c=0\n",
    "if(len(a)==len(b)):\n",
    "     for x in range(0,len(a)):\n",
    "        c= c+(a[x]*b[x])\n",
    "else:\n",
    "    print(\"no\")\n",
    "print(c)\n"
   ]
  },
  {
   "cell_type": "code",
   "execution_count": null,
   "id": "62947ddf-83a6-487f-b7fe-14fd19cd79ac",
   "metadata": {},
   "outputs": [],
   "source": []
  }
 ],
 "metadata": {
  "kernelspec": {
   "display_name": "Python 3 (ipykernel)",
   "language": "python",
   "name": "python3"
  },
  "language_info": {
   "codemirror_mode": {
    "name": "ipython",
    "version": 3
   },
   "file_extension": ".py",
   "mimetype": "text/x-python",
   "name": "python",
   "nbconvert_exporter": "python",
   "pygments_lexer": "ipython3",
   "version": "3.12.4"
  }
 },
 "nbformat": 4,
 "nbformat_minor": 5
}
